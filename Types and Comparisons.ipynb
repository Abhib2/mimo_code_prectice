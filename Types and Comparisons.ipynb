{
 "cells": [
  {
   "cell_type": "code",
   "execution_count": 2,
   "id": "2964e2d6",
   "metadata": {},
   "outputs": [
    {
     "name": "stdout",
     "output_type": "stream",
     "text": [
      "False\n"
     ]
    }
   ],
   "source": [
    "vote_count = 99\n",
    "target = vote_count == 100\n",
    "print(target)"
   ]
  },
  {
   "cell_type": "code",
   "execution_count": 3,
   "id": "6cfb27b4",
   "metadata": {},
   "outputs": [
    {
     "name": "stdout",
     "output_type": "stream",
     "text": [
      "False\n"
     ]
    }
   ],
   "source": [
    "score_one = 100\n",
    "score_two = 80\n",
    "equal = score_one == score_two\n",
    "print(equal)"
   ]
  },
  {
   "cell_type": "code",
   "execution_count": 5,
   "id": "1104ca1d",
   "metadata": {},
   "outputs": [
    {
     "name": "stdout",
     "output_type": "stream",
     "text": [
      "False\n"
     ]
    }
   ],
   "source": [
    "answer = 16\n",
    "correct_answer = answer == 13\n",
    "print (correct_answer )"
   ]
  },
  {
   "cell_type": "code",
   "execution_count": 6,
   "id": "84dff5dc",
   "metadata": {},
   "outputs": [
    {
     "name": "stdout",
     "output_type": "stream",
     "text": [
      "A-\n"
     ]
    }
   ],
   "source": [
    "average_grade = \"B\"\n",
    "average_grade = \"A-\"\n",
    "subject = \"programming\"\n",
    "print(average_grade)"
   ]
  },
  {
   "cell_type": "code",
   "execution_count": 7,
   "id": "cf9d9ca2",
   "metadata": {},
   "outputs": [],
   "source": [
    "a = True\n"
   ]
  },
  {
   "cell_type": "code",
   "execution_count": 9,
   "id": "4d97a4eb",
   "metadata": {},
   "outputs": [
    {
     "name": "stdout",
     "output_type": "stream",
     "text": [
      "False\n"
     ]
    }
   ],
   "source": [
    "is_close = True\n",
    "is_far = not is_close\n",
    "\n",
    "print(is_far)"
   ]
  },
  {
   "cell_type": "code",
   "execution_count": 13,
   "id": "e2fe30ca",
   "metadata": {},
   "outputs": [
    {
     "name": "stdout",
     "output_type": "stream",
     "text": [
      "True\n"
     ]
    }
   ],
   "source": [
    "is_monday = \"True\"\n",
    "print(is_monday)"
   ]
  },
  {
   "cell_type": "code",
   "execution_count": 14,
   "id": "21d86175",
   "metadata": {},
   "outputs": [
    {
     "name": "stdout",
     "output_type": "stream",
     "text": [
      "False\n"
     ]
    }
   ],
   "source": [
    "print(1>1)"
   ]
  },
  {
   "cell_type": "code",
   "execution_count": 15,
   "id": "150c54e5",
   "metadata": {},
   "outputs": [
    {
     "name": "stdout",
     "output_type": "stream",
     "text": [
      "False\n"
     ]
    }
   ],
   "source": [
    "print(\"abhi\" != \"abhi\")"
   ]
  },
  {
   "cell_type": "code",
   "execution_count": 16,
   "id": "0918662c",
   "metadata": {},
   "outputs": [
    {
     "name": "stdout",
     "output_type": "stream",
     "text": [
      "<class 'bool'>\n"
     ]
    }
   ],
   "source": [
    "print(type(False))"
   ]
  },
  {
   "cell_type": "code",
   "execution_count": 17,
   "id": "647620fc",
   "metadata": {},
   "outputs": [
    {
     "name": "stdout",
     "output_type": "stream",
     "text": [
      "13% hazelnuts\n"
     ]
    }
   ],
   "source": [
    "hazelnuts = 13\n",
    "label = f\"{hazelnuts}% hazelnuts\"\n",
    "print(label)"
   ]
  },
  {
   "cell_type": "code",
   "execution_count": 19,
   "id": "2bc86bac",
   "metadata": {},
   "outputs": [
    {
     "name": "stdout",
     "output_type": "stream",
     "text": [
      "A book by Virginia Woolf\n"
     ]
    }
   ],
   "source": [
    "author = \"Virginia Woolf\"\n",
    "description = f\"A book by {author}\"\n",
    "\n",
    "print(description)"
   ]
  },
  {
   "cell_type": "code",
   "execution_count": null,
   "id": "39cdb7c4",
   "metadata": {},
   "outputs": [],
   "source": []
  }
 ],
 "metadata": {
  "kernelspec": {
   "display_name": "Python 3 (ipykernel)",
   "language": "python",
   "name": "python3"
  },
  "language_info": {
   "codemirror_mode": {
    "name": "ipython",
    "version": 3
   },
   "file_extension": ".py",
   "mimetype": "text/x-python",
   "name": "python",
   "nbconvert_exporter": "python",
   "pygments_lexer": "ipython3",
   "version": "3.9.13"
  }
 },
 "nbformat": 4,
 "nbformat_minor": 5
}
