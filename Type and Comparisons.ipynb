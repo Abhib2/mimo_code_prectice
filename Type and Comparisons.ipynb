{
 "cells": [
  {
   "cell_type": "code",
   "execution_count": 1,
   "id": "bc4fe8c3",
   "metadata": {},
   "outputs": [
    {
     "name": "stdout",
     "output_type": "stream",
     "text": [
      "True\n"
     ]
    }
   ],
   "source": [
    "first=0\n",
    "second=0\n",
    "print(first>=second)"
   ]
  },
  {
   "cell_type": "code",
   "execution_count": 2,
   "id": "1ef0a5f0",
   "metadata": {},
   "outputs": [],
   "source": [
    "# When comparing equal number which comparisons result in False.\n",
    "\n",
    "#  answer: >and<"
   ]
  },
  {
   "cell_type": "code",
   "execution_count": 4,
   "id": "fff860d2",
   "metadata": {},
   "outputs": [
    {
     "name": "stdout",
     "output_type": "stream",
     "text": [
      "True\n"
     ]
    }
   ],
   "source": [
    "# Code the correct operator to set give_change to True if the customer paid more than the price .\n",
    "\n",
    "\n",
    "paid = 5\n",
    "\n",
    "price = 2\n",
    "\n",
    "give_change = paid > price\n",
    "\n",
    "print(give_change)"
   ]
  },
  {
   "cell_type": "code",
   "execution_count": 6,
   "id": "0c6e2753",
   "metadata": {},
   "outputs": [
    {
     "name": "stdout",
     "output_type": "stream",
     "text": [
      "Highly rated: \n",
      "True\n"
     ]
    }
   ],
   "source": [
    "# Code a value so that highly_rated store True.\n",
    "\n",
    "rating = 4\n",
    "highly_rated = rating >= 4\n",
    "print(\"Highly rated: \")\n",
    "print(highly_rated)"
   ]
  },
  {
   "cell_type": "code",
   "execution_count": 7,
   "id": "7e62d033",
   "metadata": {},
   "outputs": [
    {
     "name": "stdout",
     "output_type": "stream",
     "text": [
      "True\n",
      "True\n"
     ]
    }
   ],
   "source": [
    "# what dose this code display in the console?\n",
    "\n",
    "tries_left = 3\n",
    "print(tries_left >= 0)\n",
    "print(tries_left > 0)"
   ]
  },
  {
   "cell_type": "code",
   "execution_count": null,
   "id": "aa739e67",
   "metadata": {},
   "outputs": [],
   "source": []
  }
 ],
 "metadata": {
  "kernelspec": {
   "display_name": "Python 3 (ipykernel)",
   "language": "python",
   "name": "python3"
  },
  "language_info": {
   "codemirror_mode": {
    "name": "ipython",
    "version": 3
   },
   "file_extension": ".py",
   "mimetype": "text/x-python",
   "name": "python",
   "nbconvert_exporter": "python",
   "pygments_lexer": "ipython3",
   "version": "3.9.13"
  }
 },
 "nbformat": 4,
 "nbformat_minor": 5
}
